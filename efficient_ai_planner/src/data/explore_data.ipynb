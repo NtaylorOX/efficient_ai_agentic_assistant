{
 "cells": [
  {
   "cell_type": "code",
   "execution_count": 2,
   "metadata": {},
   "outputs": [],
   "source": [
    "from datasets import load_dataset\n",
    "\n",
    "ds = load_dataset(\"clembench-playpen/natural-plan-meeting\", split=\"default\")"
   ]
  },
  {
   "cell_type": "code",
   "execution_count": 3,
   "metadata": {},
   "outputs": [
    {
     "data": {
      "text/plain": [
       "Dataset({\n",
       "    features: ['id', 'num_people', 'constraints', 'dist_matrix', 'prompt_0shot', 'prompt_5shot', 'golden_plan', 'pred_5shot_gemini_pro'],\n",
       "    num_rows: 1000\n",
       "})"
      ]
     },
     "execution_count": 3,
     "metadata": {},
     "output_type": "execute_result"
    }
   ],
   "source": [
    "ds"
   ]
  },
  {
   "cell_type": "code",
   "execution_count": 3,
   "metadata": {},
   "outputs": [
    {
     "data": {
      "text/plain": [
       "Dataset({\n",
       "    features: ['id', 'num_people', 'constraints', 'dist_matrix', 'prompt_0shot', 'prompt_5shot', 'golden_plan', 'pred_5shot_gemini_pro'],\n",
       "    num_rows: 1000\n",
       "})"
      ]
     },
     "execution_count": 3,
     "metadata": {},
     "output_type": "execute_result"
    }
   ],
   "source": [
    "ds['default']"
   ]
  },
  {
   "cell_type": "code",
   "execution_count": 4,
   "metadata": {},
   "outputs": [
    {
     "data": {
      "text/plain": [
       "{'id': 'meeting_planning_example_0',\n",
       " 'num_people': 1,\n",
       " 'constraints': '[[\"Marina District\", \"9:00AM\"], [\"Stephanie\", \"Mission District\", \"10:30AM to 1:30PM\", 120]]',\n",
       " 'dist_matrix': '{\"Marina District\": {\"Mission District\": 20}, \"Mission District\": {\"Marina District\": 19}}',\n",
       " 'prompt_0shot': \"You are visiting San Francisco for the day and want to meet as many friends as possible. Solve the problem by considering various different schedules and picking the best one to optimize your goals.\\n\\nTravel distances (in minutes):\\nMarina District to Mission District: 20.\\nMission District to Marina District: 19.\\n\\nCONSTRAINTS: You arrive at Marina District at 9:00AM. Stephanie will be at Mission District from 10:30AM to 1:30PM. You'd like to meet Stephanie for a minimum of 120 minutes.\\n\\nYour response should start with 'SOLUTION:'.\",\n",
       " 'prompt_5shot': \"You are visiting San Francisco for the day and want to meet as many friends as possible. Solve the problem by considering various different schedules and picking the best one to optimize your goals.\\n\\nTravel distances (in minutes):\\nMarina District to Alamo Square: 15.\\nAlamo Square to Marina District: 15.\\n\\nCONSTRAINTS: You arrive at Marina District at 9:00AM. James will be at Alamo Square from 3:45PM to 8:00PM. You'd like to meet James for a minimum of 75 minutes.\\n\\nSOLUTION:You start at Marina District at 9:00AM. You travel to Alamo Square in 15 minutes and arrive at 9:15AM. You wait until 3:45PM. You meet James for 75 minutes from 3:45PM to 5:00PM.\\n\\nYou are visiting San Francisco for the day and want to meet as many friends as possible. Solve the problem by considering various different schedules and picking the best one to optimize your goals.\\n\\nTravel distances (in minutes):\\nPacific Heights to Embarcadero: 10.\\nEmbarcadero to Pacific Heights: 11.\\n\\nCONSTRAINTS: You arrive at Pacific Heights at 9:00AM. Betty will be at Embarcadero from 3:15PM to 6:30PM. You'd like to meet Betty for a minimum of 60 minutes.\\n\\nSOLUTION:You start at Pacific Heights at 9:00AM. You travel to Embarcadero in 10 minutes and arrive at 9:10AM. You wait until 3:15PM. You meet Betty for 60 minutes from 3:15PM to 4:15PM.\\n\\nYou are visiting San Francisco for the day and want to meet as many friends as possible. Solve the problem by considering various different schedules and picking the best one to optimize your goals.\\n\\nTravel distances (in minutes):\\nHaight-Ashbury to North Beach: 19.\\nNorth Beach to Haight-Ashbury: 18.\\n\\nCONSTRAINTS: You arrive at Haight-Ashbury at 9:00AM. Stephanie will be at North Beach from 11:00AM to 1:15PM. You'd like to meet Stephanie for a minimum of 75 minutes.\\n\\nSOLUTION:You start at Haight-Ashbury at 9:00AM. You travel to North Beach in 19 minutes and arrive at 9:19AM. You wait until 11:00AM. You meet Stephanie for 75 minutes from 11:00AM to 12:15PM.\\n\\nYou are visiting San Francisco for the day and want to meet as many friends as possible. Solve the problem by considering various different schedules and picking the best one to optimize your goals.\\n\\nTravel distances (in minutes):\\nPresidio to Embarcadero: 20.\\nEmbarcadero to Presidio: 20.\\n\\nCONSTRAINTS: You arrive at Presidio at 9:00AM. Kevin will be at Embarcadero from 12:45PM to 6:15PM. You'd like to meet Kevin for a minimum of 30 minutes.\\n\\nSOLUTION:You start at Presidio at 9:00AM. You travel to Embarcadero in 20 minutes and arrive at 9:20AM. You wait until 12:45PM. You meet Kevin for 30 minutes from 12:45PM to 1:15PM.\\n\\nYou are visiting San Francisco for the day and want to meet as many friends as possible. Solve the problem by considering various different schedules and picking the best one to optimize your goals.\\n\\nTravel distances (in minutes):\\nNob Hill to Richmond District: 14.\\nRichmond District to Nob Hill: 17.\\n\\nCONSTRAINTS: You arrive at Nob Hill at 9:00AM. Jason will be at Richmond District from 7:00AM to 10:15AM. You'd like to meet Jason for a minimum of 120 minutes.\\n\\nSOLUTION:You start at Nob Hill at 9:00AM.\\n\\nYou are visiting San Francisco for the day and want to meet as many friends as possible. Solve the problem by considering various different schedules and picking the best one to optimize your goals.\\n\\nTravel distances (in minutes):\\nMarina District to Mission District: 20.\\nMission District to Marina District: 19.\\n\\nCONSTRAINTS: You arrive at Marina District at 9:00AM. Stephanie will be at Mission District from 10:30AM to 1:30PM. You'd like to meet Stephanie for a minimum of 120 minutes.\\n\\nYour response should start with 'SOLUTION:', and follow the same solution format as shown above.\",\n",
       " 'golden_plan': \"['You start at Marina District at 9:00AM.', 'You travel to Mission District in 20 minutes and arrive at 9:20AM.', 'You wait until 10:30AM.', 'You meet Stephanie for 120 minutes from 10:30AM to 12:30PM.']\",\n",
       " 'pred_5shot_gemini_pro': 'SOLUTION:You start at Marina District at 9:00AM. You travel to Mission District in 20 minutes and arrive at 9:20AM. You wait until 10:30AM. You meet Stephanie for 120 minutes from 10:30AM to 12:30PM. \\n'}"
      ]
     },
     "execution_count": 4,
     "metadata": {},
     "output_type": "execute_result"
    }
   ],
   "source": [
    "ds['default'][0]"
   ]
  },
  {
   "cell_type": "code",
   "execution_count": 4,
   "metadata": {},
   "outputs": [
    {
     "name": "stderr",
     "output_type": "stream",
     "text": [
      "Generating train split: 1 examples [00:00,  5.19 examples/s]\n"
     ]
    }
   ],
   "source": [
    "# load in local dataset\n",
    "\n",
    "from datasets import load_dataset\n",
    "json_dataset = load_dataset('json', data_files='./data/calendar_scheduling.json')"
   ]
  },
  {
   "cell_type": "code",
   "execution_count": 5,
   "metadata": {},
   "outputs": [
    {
     "data": {
      "text/plain": [
       "DatasetDict({\n",
       "    train: Dataset({\n",
       "        features: ['calendar_scheduling_example_0', 'calendar_scheduling_example_1', 'calendar_scheduling_example_2', 'calendar_scheduling_example_3', 'calendar_scheduling_example_4', 'calendar_scheduling_example_5', 'calendar_scheduling_example_6', 'calendar_scheduling_example_7', 'calendar_scheduling_example_8', 'calendar_scheduling_example_9', 'calendar_scheduling_example_10', 'calendar_scheduling_example_11', 'calendar_scheduling_example_12', 'calendar_scheduling_example_13', 'calendar_scheduling_example_14', 'calendar_scheduling_example_15', 'calendar_scheduling_example_16', 'calendar_scheduling_example_17', 'calendar_scheduling_example_18', 'calendar_scheduling_example_19', 'calendar_scheduling_example_20', 'calendar_scheduling_example_21', 'calendar_scheduling_example_22', 'calendar_scheduling_example_23', 'calendar_scheduling_example_24', 'calendar_scheduling_example_25', 'calendar_scheduling_example_26', 'calendar_scheduling_example_27', 'calendar_scheduling_example_28', 'calendar_scheduling_example_29', 'calendar_scheduling_example_30', 'calendar_scheduling_example_31', 'calendar_scheduling_example_32', 'calendar_scheduling_example_33', 'calendar_scheduling_example_34', 'calendar_scheduling_example_35', 'calendar_scheduling_example_36', 'calendar_scheduling_example_37', 'calendar_scheduling_example_38', 'calendar_scheduling_example_39', 'calendar_scheduling_example_40', 'calendar_scheduling_example_41', 'calendar_scheduling_example_42', 'calendar_scheduling_example_43', 'calendar_scheduling_example_44', 'calendar_scheduling_example_45', 'calendar_scheduling_example_46', 'calendar_scheduling_example_47', 'calendar_scheduling_example_48', 'calendar_scheduling_example_49', 'calendar_scheduling_example_50', 'calendar_scheduling_example_51', 'calendar_scheduling_example_52', 'calendar_scheduling_example_53', 'calendar_scheduling_example_54', 'calendar_scheduling_example_55', 'calendar_scheduling_example_56', 'calendar_scheduling_example_57', 'calendar_scheduling_example_58', 'calendar_scheduling_example_59', 'calendar_scheduling_example_60', 'calendar_scheduling_example_61', 'calendar_scheduling_example_62', 'calendar_scheduling_example_63', 'calendar_scheduling_example_64', 'calendar_scheduling_example_65', 'calendar_scheduling_example_66', 'calendar_scheduling_example_67', 'calendar_scheduling_example_68', 'calendar_scheduling_example_69', 'calendar_scheduling_example_70', 'calendar_scheduling_example_71', 'calendar_scheduling_example_72', 'calendar_scheduling_example_73', 'calendar_scheduling_example_74', 'calendar_scheduling_example_75', 'calendar_scheduling_example_76', 'calendar_scheduling_example_77', 'calendar_scheduling_example_78', 'calendar_scheduling_example_79', 'calendar_scheduling_example_80', 'calendar_scheduling_example_81', 'calendar_scheduling_example_82', 'calendar_scheduling_example_83', 'calendar_scheduling_example_84', 'calendar_scheduling_example_85', 'calendar_scheduling_example_86', 'calendar_scheduling_example_87', 'calendar_scheduling_example_88', 'calendar_scheduling_example_89', 'calendar_scheduling_example_90', 'calendar_scheduling_example_91', 'calendar_scheduling_example_92', 'calendar_scheduling_example_93', 'calendar_scheduling_example_94', 'calendar_scheduling_example_95', 'calendar_scheduling_example_96', 'calendar_scheduling_example_97', 'calendar_scheduling_example_98', 'calendar_scheduling_example_99', 'calendar_scheduling_example_100', 'calendar_scheduling_example_101', 'calendar_scheduling_example_102', 'calendar_scheduling_example_103', 'calendar_scheduling_example_104', 'calendar_scheduling_example_105', 'calendar_scheduling_example_106', 'calendar_scheduling_example_107', 'calendar_scheduling_example_108', 'calendar_scheduling_example_109', 'calendar_scheduling_example_110', 'calendar_scheduling_example_111', 'calendar_scheduling_example_112', 'calendar_scheduling_example_113', 'calendar_scheduling_example_114', 'calendar_scheduling_example_115', 'calendar_scheduling_example_116', 'calendar_scheduling_example_117', 'calendar_scheduling_example_118', 'calendar_scheduling_example_119', 'calendar_scheduling_example_120', 'calendar_scheduling_example_121', 'calendar_scheduling_example_122', 'calendar_scheduling_example_123', 'calendar_scheduling_example_124', 'calendar_scheduling_example_125', 'calendar_scheduling_example_126', 'calendar_scheduling_example_127', 'calendar_scheduling_example_128', 'calendar_scheduling_example_129', 'calendar_scheduling_example_130', 'calendar_scheduling_example_131', 'calendar_scheduling_example_132', 'calendar_scheduling_example_133', 'calendar_scheduling_example_134', 'calendar_scheduling_example_135', 'calendar_scheduling_example_136', 'calendar_scheduling_example_137', 'calendar_scheduling_example_138', 'calendar_scheduling_example_139', 'calendar_scheduling_example_140', 'calendar_scheduling_example_141', 'calendar_scheduling_example_142', 'calendar_scheduling_example_143', 'calendar_scheduling_example_144', 'calendar_scheduling_example_145', 'calendar_scheduling_example_146', 'calendar_scheduling_example_147', 'calendar_scheduling_example_148', 'calendar_scheduling_example_149', 'calendar_scheduling_example_150', 'calendar_scheduling_example_151', 'calendar_scheduling_example_152', 'calendar_scheduling_example_153', 'calendar_scheduling_example_154', 'calendar_scheduling_example_155', 'calendar_scheduling_example_156', 'calendar_scheduling_example_157', 'calendar_scheduling_example_158', 'calendar_scheduling_example_159', 'calendar_scheduling_example_160', 'calendar_scheduling_example_161', 'calendar_scheduling_example_162', 'calendar_scheduling_example_163', 'calendar_scheduling_example_164', 'calendar_scheduling_example_165', 'calendar_scheduling_example_166', 'calendar_scheduling_example_167', 'calendar_scheduling_example_168', 'calendar_scheduling_example_169', 'calendar_scheduling_example_170', 'calendar_scheduling_example_171', 'calendar_scheduling_example_172', 'calendar_scheduling_example_173', 'calendar_scheduling_example_174', 'calendar_scheduling_example_175', 'calendar_scheduling_example_176', 'calendar_scheduling_example_177', 'calendar_scheduling_example_178', 'calendar_scheduling_example_179', 'calendar_scheduling_example_180', 'calendar_scheduling_example_181', 'calendar_scheduling_example_182', 'calendar_scheduling_example_183', 'calendar_scheduling_example_184', 'calendar_scheduling_example_185', 'calendar_scheduling_example_186', 'calendar_scheduling_example_187', 'calendar_scheduling_example_188', 'calendar_scheduling_example_189', 'calendar_scheduling_example_190', 'calendar_scheduling_example_191', 'calendar_scheduling_example_192', 'calendar_scheduling_example_193', 'calendar_scheduling_example_194', 'calendar_scheduling_example_195', 'calendar_scheduling_example_196', 'calendar_scheduling_example_197', 'calendar_scheduling_example_198', 'calendar_scheduling_example_199', 'calendar_scheduling_example_200', 'calendar_scheduling_example_201', 'calendar_scheduling_example_202', 'calendar_scheduling_example_203', 'calendar_scheduling_example_204', 'calendar_scheduling_example_205', 'calendar_scheduling_example_206', 'calendar_scheduling_example_207', 'calendar_scheduling_example_208', 'calendar_scheduling_example_209', 'calendar_scheduling_example_210', 'calendar_scheduling_example_211', 'calendar_scheduling_example_212', 'calendar_scheduling_example_213', 'calendar_scheduling_example_214', 'calendar_scheduling_example_215', 'calendar_scheduling_example_216', 'calendar_scheduling_example_217', 'calendar_scheduling_example_218', 'calendar_scheduling_example_219', 'calendar_scheduling_example_220', 'calendar_scheduling_example_221', 'calendar_scheduling_example_222', 'calendar_scheduling_example_223', 'calendar_scheduling_example_224', 'calendar_scheduling_example_225', 'calendar_scheduling_example_226', 'calendar_scheduling_example_227', 'calendar_scheduling_example_228', 'calendar_scheduling_example_229', 'calendar_scheduling_example_230', 'calendar_scheduling_example_231', 'calendar_scheduling_example_232', 'calendar_scheduling_example_233', 'calendar_scheduling_example_234', 'calendar_scheduling_example_235', 'calendar_scheduling_example_236', 'calendar_scheduling_example_237', 'calendar_scheduling_example_238', 'calendar_scheduling_example_239', 'calendar_scheduling_example_240', 'calendar_scheduling_example_241', 'calendar_scheduling_example_242', 'calendar_scheduling_example_243', 'calendar_scheduling_example_244', 'calendar_scheduling_example_245', 'calendar_scheduling_example_246', 'calendar_scheduling_example_247', 'calendar_scheduling_example_248', 'calendar_scheduling_example_249', 'calendar_scheduling_example_250', 'calendar_scheduling_example_251', 'calendar_scheduling_example_252', 'calendar_scheduling_example_253', 'calendar_scheduling_example_254', 'calendar_scheduling_example_255', 'calendar_scheduling_example_256', 'calendar_scheduling_example_257', 'calendar_scheduling_example_258', 'calendar_scheduling_example_259', 'calendar_scheduling_example_260', 'calendar_scheduling_example_261', 'calendar_scheduling_example_262', 'calendar_scheduling_example_263', 'calendar_scheduling_example_264', 'calendar_scheduling_example_265', 'calendar_scheduling_example_266', 'calendar_scheduling_example_267', 'calendar_scheduling_example_268', 'calendar_scheduling_example_269', 'calendar_scheduling_example_270', 'calendar_scheduling_example_271', 'calendar_scheduling_example_272', 'calendar_scheduling_example_273', 'calendar_scheduling_example_274', 'calendar_scheduling_example_275', 'calendar_scheduling_example_276', 'calendar_scheduling_example_277', 'calendar_scheduling_example_278', 'calendar_scheduling_example_279', 'calendar_scheduling_example_280', 'calendar_scheduling_example_281', 'calendar_scheduling_example_282', 'calendar_scheduling_example_283', 'calendar_scheduling_example_284', 'calendar_scheduling_example_285', 'calendar_scheduling_example_286', 'calendar_scheduling_example_287', 'calendar_scheduling_example_288', 'calendar_scheduling_example_289', 'calendar_scheduling_example_290', 'calendar_scheduling_example_291', 'calendar_scheduling_example_292', 'calendar_scheduling_example_293', 'calendar_scheduling_example_294', 'calendar_scheduling_example_295', 'calendar_scheduling_example_296', 'calendar_scheduling_example_297', 'calendar_scheduling_example_298', 'calendar_scheduling_example_299', 'calendar_scheduling_example_300', 'calendar_scheduling_example_301', 'calendar_scheduling_example_302', 'calendar_scheduling_example_303', 'calendar_scheduling_example_304', 'calendar_scheduling_example_305', 'calendar_scheduling_example_306', 'calendar_scheduling_example_307', 'calendar_scheduling_example_308', 'calendar_scheduling_example_309', 'calendar_scheduling_example_310', 'calendar_scheduling_example_311', 'calendar_scheduling_example_312', 'calendar_scheduling_example_313', 'calendar_scheduling_example_314', 'calendar_scheduling_example_315', 'calendar_scheduling_example_316', 'calendar_scheduling_example_317', 'calendar_scheduling_example_318', 'calendar_scheduling_example_319', 'calendar_scheduling_example_320', 'calendar_scheduling_example_321', 'calendar_scheduling_example_322', 'calendar_scheduling_example_323', 'calendar_scheduling_example_324', 'calendar_scheduling_example_325', 'calendar_scheduling_example_326', 'calendar_scheduling_example_327', 'calendar_scheduling_example_328', 'calendar_scheduling_example_329', 'calendar_scheduling_example_330', 'calendar_scheduling_example_331', 'calendar_scheduling_example_332', 'calendar_scheduling_example_333', 'calendar_scheduling_example_334', 'calendar_scheduling_example_335', 'calendar_scheduling_example_336', 'calendar_scheduling_example_337', 'calendar_scheduling_example_338', 'calendar_scheduling_example_339', 'calendar_scheduling_example_340', 'calendar_scheduling_example_341', 'calendar_scheduling_example_342', 'calendar_scheduling_example_343', 'calendar_scheduling_example_344', 'calendar_scheduling_example_345', 'calendar_scheduling_example_346', 'calendar_scheduling_example_347', 'calendar_scheduling_example_348', 'calendar_scheduling_example_349', 'calendar_scheduling_example_350', 'calendar_scheduling_example_351', 'calendar_scheduling_example_352', 'calendar_scheduling_example_353', 'calendar_scheduling_example_354', 'calendar_scheduling_example_355', 'calendar_scheduling_example_356', 'calendar_scheduling_example_357', 'calendar_scheduling_example_358', 'calendar_scheduling_example_359', 'calendar_scheduling_example_360', 'calendar_scheduling_example_361', 'calendar_scheduling_example_362', 'calendar_scheduling_example_363', 'calendar_scheduling_example_364', 'calendar_scheduling_example_365', 'calendar_scheduling_example_366', 'calendar_scheduling_example_367', 'calendar_scheduling_example_368', 'calendar_scheduling_example_369', 'calendar_scheduling_example_370', 'calendar_scheduling_example_371', 'calendar_scheduling_example_372', 'calendar_scheduling_example_373', 'calendar_scheduling_example_374', 'calendar_scheduling_example_375', 'calendar_scheduling_example_376', 'calendar_scheduling_example_377', 'calendar_scheduling_example_378', 'calendar_scheduling_example_379', 'calendar_scheduling_example_380', 'calendar_scheduling_example_381', 'calendar_scheduling_example_382', 'calendar_scheduling_example_383', 'calendar_scheduling_example_384', 'calendar_scheduling_example_385', 'calendar_scheduling_example_386', 'calendar_scheduling_example_387', 'calendar_scheduling_example_388', 'calendar_scheduling_example_389', 'calendar_scheduling_example_390', 'calendar_scheduling_example_391', 'calendar_scheduling_example_392', 'calendar_scheduling_example_393', 'calendar_scheduling_example_394', 'calendar_scheduling_example_395', 'calendar_scheduling_example_396', 'calendar_scheduling_example_397', 'calendar_scheduling_example_398', 'calendar_scheduling_example_399', 'calendar_scheduling_example_400', 'calendar_scheduling_example_401', 'calendar_scheduling_example_402', 'calendar_scheduling_example_403', 'calendar_scheduling_example_404', 'calendar_scheduling_example_405', 'calendar_scheduling_example_406', 'calendar_scheduling_example_407', 'calendar_scheduling_example_408', 'calendar_scheduling_example_409', 'calendar_scheduling_example_410', 'calendar_scheduling_example_411', 'calendar_scheduling_example_412', 'calendar_scheduling_example_413', 'calendar_scheduling_example_414', 'calendar_scheduling_example_415', 'calendar_scheduling_example_416', 'calendar_scheduling_example_417', 'calendar_scheduling_example_418', 'calendar_scheduling_example_419', 'calendar_scheduling_example_420', 'calendar_scheduling_example_421', 'calendar_scheduling_example_422', 'calendar_scheduling_example_423', 'calendar_scheduling_example_424', 'calendar_scheduling_example_425', 'calendar_scheduling_example_426', 'calendar_scheduling_example_427', 'calendar_scheduling_example_428', 'calendar_scheduling_example_429', 'calendar_scheduling_example_430', 'calendar_scheduling_example_431', 'calendar_scheduling_example_432', 'calendar_scheduling_example_433', 'calendar_scheduling_example_434', 'calendar_scheduling_example_435', 'calendar_scheduling_example_436', 'calendar_scheduling_example_437', 'calendar_scheduling_example_438', 'calendar_scheduling_example_439', 'calendar_scheduling_example_440', 'calendar_scheduling_example_441', 'calendar_scheduling_example_442', 'calendar_scheduling_example_443', 'calendar_scheduling_example_444', 'calendar_scheduling_example_445', 'calendar_scheduling_example_446', 'calendar_scheduling_example_447', 'calendar_scheduling_example_448', 'calendar_scheduling_example_449', 'calendar_scheduling_example_450', 'calendar_scheduling_example_451', 'calendar_scheduling_example_452', 'calendar_scheduling_example_453', 'calendar_scheduling_example_454', 'calendar_scheduling_example_455', 'calendar_scheduling_example_456', 'calendar_scheduling_example_457', 'calendar_scheduling_example_458', 'calendar_scheduling_example_459', 'calendar_scheduling_example_460', 'calendar_scheduling_example_461', 'calendar_scheduling_example_462', 'calendar_scheduling_example_463', 'calendar_scheduling_example_464', 'calendar_scheduling_example_465', 'calendar_scheduling_example_466', 'calendar_scheduling_example_467', 'calendar_scheduling_example_468', 'calendar_scheduling_example_469', 'calendar_scheduling_example_470', 'calendar_scheduling_example_471', 'calendar_scheduling_example_472', 'calendar_scheduling_example_473', 'calendar_scheduling_example_474', 'calendar_scheduling_example_475', 'calendar_scheduling_example_476', 'calendar_scheduling_example_477', 'calendar_scheduling_example_478', 'calendar_scheduling_example_479', 'calendar_scheduling_example_480', 'calendar_scheduling_example_481', 'calendar_scheduling_example_482', 'calendar_scheduling_example_483', 'calendar_scheduling_example_484', 'calendar_scheduling_example_485', 'calendar_scheduling_example_486', 'calendar_scheduling_example_487', 'calendar_scheduling_example_488', 'calendar_scheduling_example_489', 'calendar_scheduling_example_490', 'calendar_scheduling_example_491', 'calendar_scheduling_example_492', 'calendar_scheduling_example_493', 'calendar_scheduling_example_494', 'calendar_scheduling_example_495', 'calendar_scheduling_example_496', 'calendar_scheduling_example_497', 'calendar_scheduling_example_498', 'calendar_scheduling_example_499', 'calendar_scheduling_example_500', 'calendar_scheduling_example_501', 'calendar_scheduling_example_502', 'calendar_scheduling_example_503', 'calendar_scheduling_example_504', 'calendar_scheduling_example_505', 'calendar_scheduling_example_506', 'calendar_scheduling_example_507', 'calendar_scheduling_example_508', 'calendar_scheduling_example_509', 'calendar_scheduling_example_510', 'calendar_scheduling_example_511', 'calendar_scheduling_example_512', 'calendar_scheduling_example_513', 'calendar_scheduling_example_514', 'calendar_scheduling_example_515', 'calendar_scheduling_example_516', 'calendar_scheduling_example_517', 'calendar_scheduling_example_518', 'calendar_scheduling_example_519', 'calendar_scheduling_example_520', 'calendar_scheduling_example_521', 'calendar_scheduling_example_522', 'calendar_scheduling_example_523', 'calendar_scheduling_example_524', 'calendar_scheduling_example_525', 'calendar_scheduling_example_526', 'calendar_scheduling_example_527', 'calendar_scheduling_example_528', 'calendar_scheduling_example_529', 'calendar_scheduling_example_530', 'calendar_scheduling_example_531', 'calendar_scheduling_example_532', 'calendar_scheduling_example_533', 'calendar_scheduling_example_534', 'calendar_scheduling_example_535', 'calendar_scheduling_example_536', 'calendar_scheduling_example_537', 'calendar_scheduling_example_538', 'calendar_scheduling_example_539', 'calendar_scheduling_example_540', 'calendar_scheduling_example_541', 'calendar_scheduling_example_542', 'calendar_scheduling_example_543', 'calendar_scheduling_example_544', 'calendar_scheduling_example_545', 'calendar_scheduling_example_546', 'calendar_scheduling_example_547', 'calendar_scheduling_example_548', 'calendar_scheduling_example_549', 'calendar_scheduling_example_550', 'calendar_scheduling_example_551', 'calendar_scheduling_example_552', 'calendar_scheduling_example_553', 'calendar_scheduling_example_554', 'calendar_scheduling_example_555', 'calendar_scheduling_example_556', 'calendar_scheduling_example_557', 'calendar_scheduling_example_558', 'calendar_scheduling_example_559', 'calendar_scheduling_example_560', 'calendar_scheduling_example_561', 'calendar_scheduling_example_562', 'calendar_scheduling_example_563', 'calendar_scheduling_example_564', 'calendar_scheduling_example_565', 'calendar_scheduling_example_566', 'calendar_scheduling_example_567', 'calendar_scheduling_example_568', 'calendar_scheduling_example_569', 'calendar_scheduling_example_570', 'calendar_scheduling_example_571', 'calendar_scheduling_example_572', 'calendar_scheduling_example_573', 'calendar_scheduling_example_574', 'calendar_scheduling_example_575', 'calendar_scheduling_example_576', 'calendar_scheduling_example_577', 'calendar_scheduling_example_578', 'calendar_scheduling_example_579', 'calendar_scheduling_example_580', 'calendar_scheduling_example_581', 'calendar_scheduling_example_582', 'calendar_scheduling_example_583', 'calendar_scheduling_example_584', 'calendar_scheduling_example_585', 'calendar_scheduling_example_586', 'calendar_scheduling_example_587', 'calendar_scheduling_example_588', 'calendar_scheduling_example_589', 'calendar_scheduling_example_590', 'calendar_scheduling_example_591', 'calendar_scheduling_example_592', 'calendar_scheduling_example_593', 'calendar_scheduling_example_594', 'calendar_scheduling_example_595', 'calendar_scheduling_example_596', 'calendar_scheduling_example_597', 'calendar_scheduling_example_598', 'calendar_scheduling_example_599', 'calendar_scheduling_example_600', 'calendar_scheduling_example_601', 'calendar_scheduling_example_602', 'calendar_scheduling_example_603', 'calendar_scheduling_example_604', 'calendar_scheduling_example_605', 'calendar_scheduling_example_606', 'calendar_scheduling_example_607', 'calendar_scheduling_example_608', 'calendar_scheduling_example_609', 'calendar_scheduling_example_610', 'calendar_scheduling_example_611', 'calendar_scheduling_example_612', 'calendar_scheduling_example_613', 'calendar_scheduling_example_614', 'calendar_scheduling_example_615', 'calendar_scheduling_example_616', 'calendar_scheduling_example_617', 'calendar_scheduling_example_618', 'calendar_scheduling_example_619', 'calendar_scheduling_example_620', 'calendar_scheduling_example_621', 'calendar_scheduling_example_622', 'calendar_scheduling_example_623', 'calendar_scheduling_example_624', 'calendar_scheduling_example_625', 'calendar_scheduling_example_626', 'calendar_scheduling_example_627', 'calendar_scheduling_example_628', 'calendar_scheduling_example_629', 'calendar_scheduling_example_630', 'calendar_scheduling_example_631', 'calendar_scheduling_example_632', 'calendar_scheduling_example_633', 'calendar_scheduling_example_634', 'calendar_scheduling_example_635', 'calendar_scheduling_example_636', 'calendar_scheduling_example_637', 'calendar_scheduling_example_638', 'calendar_scheduling_example_639', 'calendar_scheduling_example_640', 'calendar_scheduling_example_641', 'calendar_scheduling_example_642', 'calendar_scheduling_example_643', 'calendar_scheduling_example_644', 'calendar_scheduling_example_645', 'calendar_scheduling_example_646', 'calendar_scheduling_example_647', 'calendar_scheduling_example_648', 'calendar_scheduling_example_649', 'calendar_scheduling_example_650', 'calendar_scheduling_example_651', 'calendar_scheduling_example_652', 'calendar_scheduling_example_653', 'calendar_scheduling_example_654', 'calendar_scheduling_example_655', 'calendar_scheduling_example_656', 'calendar_scheduling_example_657', 'calendar_scheduling_example_658', 'calendar_scheduling_example_659', 'calendar_scheduling_example_660', 'calendar_scheduling_example_661', 'calendar_scheduling_example_662', 'calendar_scheduling_example_663', 'calendar_scheduling_example_664', 'calendar_scheduling_example_665', 'calendar_scheduling_example_666', 'calendar_scheduling_example_667', 'calendar_scheduling_example_668', 'calendar_scheduling_example_669', 'calendar_scheduling_example_670', 'calendar_scheduling_example_671', 'calendar_scheduling_example_672', 'calendar_scheduling_example_673', 'calendar_scheduling_example_674', 'calendar_scheduling_example_675', 'calendar_scheduling_example_676', 'calendar_scheduling_example_677', 'calendar_scheduling_example_678', 'calendar_scheduling_example_679', 'calendar_scheduling_example_680', 'calendar_scheduling_example_681', 'calendar_scheduling_example_682', 'calendar_scheduling_example_683', 'calendar_scheduling_example_684', 'calendar_scheduling_example_685', 'calendar_scheduling_example_686', 'calendar_scheduling_example_687', 'calendar_scheduling_example_688', 'calendar_scheduling_example_689', 'calendar_scheduling_example_690', 'calendar_scheduling_example_691', 'calendar_scheduling_example_692', 'calendar_scheduling_example_693', 'calendar_scheduling_example_694', 'calendar_scheduling_example_695', 'calendar_scheduling_example_696', 'calendar_scheduling_example_697', 'calendar_scheduling_example_698', 'calendar_scheduling_example_699', 'calendar_scheduling_example_700', 'calendar_scheduling_example_701', 'calendar_scheduling_example_702', 'calendar_scheduling_example_703', 'calendar_scheduling_example_704', 'calendar_scheduling_example_705', 'calendar_scheduling_example_706', 'calendar_scheduling_example_707', 'calendar_scheduling_example_708', 'calendar_scheduling_example_709', 'calendar_scheduling_example_710', 'calendar_scheduling_example_711', 'calendar_scheduling_example_712', 'calendar_scheduling_example_713', 'calendar_scheduling_example_714', 'calendar_scheduling_example_715', 'calendar_scheduling_example_716', 'calendar_scheduling_example_717', 'calendar_scheduling_example_718', 'calendar_scheduling_example_719', 'calendar_scheduling_example_720', 'calendar_scheduling_example_721', 'calendar_scheduling_example_722', 'calendar_scheduling_example_723', 'calendar_scheduling_example_724', 'calendar_scheduling_example_725', 'calendar_scheduling_example_726', 'calendar_scheduling_example_727', 'calendar_scheduling_example_728', 'calendar_scheduling_example_729', 'calendar_scheduling_example_730', 'calendar_scheduling_example_731', 'calendar_scheduling_example_732', 'calendar_scheduling_example_733', 'calendar_scheduling_example_734', 'calendar_scheduling_example_735', 'calendar_scheduling_example_736', 'calendar_scheduling_example_737', 'calendar_scheduling_example_738', 'calendar_scheduling_example_739', 'calendar_scheduling_example_740', 'calendar_scheduling_example_741', 'calendar_scheduling_example_742', 'calendar_scheduling_example_743', 'calendar_scheduling_example_744', 'calendar_scheduling_example_745', 'calendar_scheduling_example_746', 'calendar_scheduling_example_747', 'calendar_scheduling_example_748', 'calendar_scheduling_example_749', 'calendar_scheduling_example_750', 'calendar_scheduling_example_751', 'calendar_scheduling_example_752', 'calendar_scheduling_example_753', 'calendar_scheduling_example_754', 'calendar_scheduling_example_755', 'calendar_scheduling_example_756', 'calendar_scheduling_example_757', 'calendar_scheduling_example_758', 'calendar_scheduling_example_759', 'calendar_scheduling_example_760', 'calendar_scheduling_example_761', 'calendar_scheduling_example_762', 'calendar_scheduling_example_763', 'calendar_scheduling_example_764', 'calendar_scheduling_example_765', 'calendar_scheduling_example_766', 'calendar_scheduling_example_767', 'calendar_scheduling_example_768', 'calendar_scheduling_example_769', 'calendar_scheduling_example_770', 'calendar_scheduling_example_771', 'calendar_scheduling_example_772', 'calendar_scheduling_example_773', 'calendar_scheduling_example_774', 'calendar_scheduling_example_775', 'calendar_scheduling_example_776', 'calendar_scheduling_example_777', 'calendar_scheduling_example_778', 'calendar_scheduling_example_779', 'calendar_scheduling_example_780', 'calendar_scheduling_example_781', 'calendar_scheduling_example_782', 'calendar_scheduling_example_783', 'calendar_scheduling_example_784', 'calendar_scheduling_example_785', 'calendar_scheduling_example_786', 'calendar_scheduling_example_787', 'calendar_scheduling_example_788', 'calendar_scheduling_example_789', 'calendar_scheduling_example_790', 'calendar_scheduling_example_791', 'calendar_scheduling_example_792', 'calendar_scheduling_example_793', 'calendar_scheduling_example_794', 'calendar_scheduling_example_795', 'calendar_scheduling_example_796', 'calendar_scheduling_example_797', 'calendar_scheduling_example_798', 'calendar_scheduling_example_799', 'calendar_scheduling_example_800', 'calendar_scheduling_example_801', 'calendar_scheduling_example_802', 'calendar_scheduling_example_803', 'calendar_scheduling_example_804', 'calendar_scheduling_example_805', 'calendar_scheduling_example_806', 'calendar_scheduling_example_807', 'calendar_scheduling_example_808', 'calendar_scheduling_example_809', 'calendar_scheduling_example_810', 'calendar_scheduling_example_811', 'calendar_scheduling_example_812', 'calendar_scheduling_example_813', 'calendar_scheduling_example_814', 'calendar_scheduling_example_815', 'calendar_scheduling_example_816', 'calendar_scheduling_example_817', 'calendar_scheduling_example_818', 'calendar_scheduling_example_819', 'calendar_scheduling_example_820', 'calendar_scheduling_example_821', 'calendar_scheduling_example_822', 'calendar_scheduling_example_823', 'calendar_scheduling_example_824', 'calendar_scheduling_example_825', 'calendar_scheduling_example_826', 'calendar_scheduling_example_827', 'calendar_scheduling_example_828', 'calendar_scheduling_example_829', 'calendar_scheduling_example_830', 'calendar_scheduling_example_831', 'calendar_scheduling_example_832', 'calendar_scheduling_example_833', 'calendar_scheduling_example_834', 'calendar_scheduling_example_835', 'calendar_scheduling_example_836', 'calendar_scheduling_example_837', 'calendar_scheduling_example_838', 'calendar_scheduling_example_839', 'calendar_scheduling_example_840', 'calendar_scheduling_example_841', 'calendar_scheduling_example_842', 'calendar_scheduling_example_843', 'calendar_scheduling_example_844', 'calendar_scheduling_example_845', 'calendar_scheduling_example_846', 'calendar_scheduling_example_847', 'calendar_scheduling_example_848', 'calendar_scheduling_example_849', 'calendar_scheduling_example_850', 'calendar_scheduling_example_851', 'calendar_scheduling_example_852', 'calendar_scheduling_example_853', 'calendar_scheduling_example_854', 'calendar_scheduling_example_855', 'calendar_scheduling_example_856', 'calendar_scheduling_example_857', 'calendar_scheduling_example_858', 'calendar_scheduling_example_859', 'calendar_scheduling_example_860', 'calendar_scheduling_example_861', 'calendar_scheduling_example_862', 'calendar_scheduling_example_863', 'calendar_scheduling_example_864', 'calendar_scheduling_example_865', 'calendar_scheduling_example_866', 'calendar_scheduling_example_867', 'calendar_scheduling_example_868', 'calendar_scheduling_example_869', 'calendar_scheduling_example_870', 'calendar_scheduling_example_871', 'calendar_scheduling_example_872', 'calendar_scheduling_example_873', 'calendar_scheduling_example_874', 'calendar_scheduling_example_875', 'calendar_scheduling_example_876', 'calendar_scheduling_example_877', 'calendar_scheduling_example_878', 'calendar_scheduling_example_879', 'calendar_scheduling_example_880', 'calendar_scheduling_example_881', 'calendar_scheduling_example_882', 'calendar_scheduling_example_883', 'calendar_scheduling_example_884', 'calendar_scheduling_example_885', 'calendar_scheduling_example_886', 'calendar_scheduling_example_887', 'calendar_scheduling_example_888', 'calendar_scheduling_example_889', 'calendar_scheduling_example_890', 'calendar_scheduling_example_891', 'calendar_scheduling_example_892', 'calendar_scheduling_example_893', 'calendar_scheduling_example_894', 'calendar_scheduling_example_895', 'calendar_scheduling_example_896', 'calendar_scheduling_example_897', 'calendar_scheduling_example_898', 'calendar_scheduling_example_899', 'calendar_scheduling_example_900', 'calendar_scheduling_example_901', 'calendar_scheduling_example_902', 'calendar_scheduling_example_903', 'calendar_scheduling_example_904', 'calendar_scheduling_example_905', 'calendar_scheduling_example_906', 'calendar_scheduling_example_907', 'calendar_scheduling_example_908', 'calendar_scheduling_example_909', 'calendar_scheduling_example_910', 'calendar_scheduling_example_911', 'calendar_scheduling_example_912', 'calendar_scheduling_example_913', 'calendar_scheduling_example_914', 'calendar_scheduling_example_915', 'calendar_scheduling_example_916', 'calendar_scheduling_example_917', 'calendar_scheduling_example_918', 'calendar_scheduling_example_919', 'calendar_scheduling_example_920', 'calendar_scheduling_example_921', 'calendar_scheduling_example_922', 'calendar_scheduling_example_923', 'calendar_scheduling_example_924', 'calendar_scheduling_example_925', 'calendar_scheduling_example_926', 'calendar_scheduling_example_927', 'calendar_scheduling_example_928', 'calendar_scheduling_example_929', 'calendar_scheduling_example_930', 'calendar_scheduling_example_931', 'calendar_scheduling_example_932', 'calendar_scheduling_example_933', 'calendar_scheduling_example_934', 'calendar_scheduling_example_935', 'calendar_scheduling_example_936', 'calendar_scheduling_example_937', 'calendar_scheduling_example_938', 'calendar_scheduling_example_939', 'calendar_scheduling_example_940', 'calendar_scheduling_example_941', 'calendar_scheduling_example_942', 'calendar_scheduling_example_943', 'calendar_scheduling_example_944', 'calendar_scheduling_example_945', 'calendar_scheduling_example_946', 'calendar_scheduling_example_947', 'calendar_scheduling_example_948', 'calendar_scheduling_example_949', 'calendar_scheduling_example_950', 'calendar_scheduling_example_951', 'calendar_scheduling_example_952', 'calendar_scheduling_example_953', 'calendar_scheduling_example_954', 'calendar_scheduling_example_955', 'calendar_scheduling_example_956', 'calendar_scheduling_example_957', 'calendar_scheduling_example_958', 'calendar_scheduling_example_959', 'calendar_scheduling_example_960', 'calendar_scheduling_example_961', 'calendar_scheduling_example_962', 'calendar_scheduling_example_963', 'calendar_scheduling_example_964', 'calendar_scheduling_example_965', 'calendar_scheduling_example_966', 'calendar_scheduling_example_967', 'calendar_scheduling_example_968', 'calendar_scheduling_example_969', 'calendar_scheduling_example_970', 'calendar_scheduling_example_971', 'calendar_scheduling_example_972', 'calendar_scheduling_example_973', 'calendar_scheduling_example_974', 'calendar_scheduling_example_975', 'calendar_scheduling_example_976', 'calendar_scheduling_example_977', 'calendar_scheduling_example_978', 'calendar_scheduling_example_979', 'calendar_scheduling_example_980', 'calendar_scheduling_example_981', 'calendar_scheduling_example_982', 'calendar_scheduling_example_983', 'calendar_scheduling_example_984', 'calendar_scheduling_example_985', 'calendar_scheduling_example_986', 'calendar_scheduling_example_987', 'calendar_scheduling_example_988', 'calendar_scheduling_example_989', 'calendar_scheduling_example_990', 'calendar_scheduling_example_991', 'calendar_scheduling_example_992', 'calendar_scheduling_example_993', 'calendar_scheduling_example_994', 'calendar_scheduling_example_995', 'calendar_scheduling_example_996', 'calendar_scheduling_example_997', 'calendar_scheduling_example_998', 'calendar_scheduling_example_999'],\n",
       "        num_rows: 1\n",
       "    })\n",
       "})"
      ]
     },
     "execution_count": 5,
     "metadata": {},
     "output_type": "execute_result"
    }
   ],
   "source": [
    "json_dataset"
   ]
  },
  {
   "cell_type": "code",
   "execution_count": 6,
   "metadata": {},
   "outputs": [
    {
     "name": "stdout",
     "output_type": "stream",
     "text": [
      "Loading JSON data from: ./data/calendar_scheduling.json\n",
      "JSON data loaded successfully.\n",
      "Transforming data into a list of records...\n",
      "Transformed 1000 records.\n",
      "Creating Dataset object...\n",
      "Dataset created successfully!\n",
      "\n",
      "Dataset Info:\n",
      "Dataset({\n",
      "    features: ['num_people', 'num_days', 'duration', 'prompt_5shot', 'golden_plan', 'pred_5shot_pro', 'prompt_0shot', 'id'],\n",
      "    num_rows: 1000\n",
      "})\n",
      "\n",
      "First example:\n",
      "{'num_people': '3', 'num_days': '1', 'duration': '1', 'prompt_5shot': \"You are an expert at scheduling meetings. You are given a few constraints on the existing schedule of each participant, the meeting duration, and possibly some preferences on the meeting time. Note there exists a solution that works with existing schedule of every participant. Here are a few example tasks and solutions:\\n\\nTASK: You need to schedule a meeting for Roger, Karen and Dorothy for half an hour between the work hours of 9:00 to 17:00 on Monday. \\n\\nHere are the existing schedules for everyone during the day: \\nRoger's calendar is wide open the entire day.\\nKaren has meetings on Monday during 10:00 to 10:30, 11:30 to 12:00, 12:30 to 13:00, 14:00 to 15:00, 15:30 to 16:00; \\nDorothy is busy on Monday during 9:00 to 10:00, 10:30 to 11:00, 11:30 to 12:00, 12:30 to 13:00, 14:00 to 15:30, 16:00 to 17:00; \\n\\nYou would like to schedule the meeting at their earlist availability.\\nFind a time that works for everyone's schedule and constraints. \\nSOLUTION: Here is the proposed time: Monday, 11:00 - 11:30 \\n\\nTASK: You need to schedule a meeting for Douglas, Lawrence and Isabella for half an hour between the work hours of 9:00 to 17:00 on Monday. \\n\\nHere are the existing schedules for everyone during the day: \\nDouglas has meetings on Monday during 12:00 to 12:30, 15:00 to 15:30; \\nLawrence has meetings on Monday during 10:30 to 12:00, 13:00 to 13:30, 14:00 to 14:30, 15:30 to 16:00; \\nIsabella is busy on Monday during 9:00 to 12:30, 13:30 to 17:00; \\n\\nFind a time that works for everyone's schedule and constraints. \\nSOLUTION: Here is the proposed time: Monday, 12:30 - 13:00 \\n\\nTASK: You need to schedule a meeting for Joshua, Denise and Jeremy for one hour between the work hours of 9:00 to 17:00 on Monday. \\n\\nHere are the existing schedules for everyone during the day: \\nJoshua is busy on Monday during 10:00 to 10:30, 12:00 to 12:30, 14:00 to 14:30, 15:00 to 15:30; \\nDenise's calendar is wide open the entire day.\\nJeremy has meetings on Monday during 9:30 to 10:30, 12:00 to 13:00, 13:30 to 14:00, 14:30 to 15:00, 15:30 to 16:00, 16:30 to 17:00; \\n\\nFind a time that works for everyone's schedule and constraints. \\nSOLUTION: Here is the proposed time: Monday, 10:30 - 11:30 \\n\\nTASK: You need to schedule a meeting for Alan, Elizabeth and Denise for half an hour between the work hours of 9:00 to 17:00 on Monday. \\n\\nHere are the existing schedules for everyone during the day: \\nAlan has blocked their calendar on Monday during 13:00 to 13:30, 14:00 to 14:30; \\nElizabeth is busy on Monday during 9:00 to 9:30, 11:00 to 11:30; \\nDenise has blocked their calendar on Monday during 9:00 to 10:00, 10:30 to 11:30, 12:30 to 13:00, 13:30 to 14:00, 14:30 to 16:00, 16:30 to 17:00; \\n\\nYou would like to schedule the meeting at their earlist availability.\\nFind a time that works for everyone's schedule and constraints. \\nSOLUTION: Here is the proposed time: Monday, 10:00 - 10:30 \\n\\nTASK: You need to schedule a meeting for Mason, Bruce and Christopher for half an hour between the work hours of 9:00 to 17:00 on Monday. \\n\\nHere are the existing schedules for everyone during the day: \\nMason has meetings on Monday during 9:30 to 10:00, 11:00 to 11:30, 14:30 to 15:00, 16:30 to 17:00; \\nBruce is free the entire day.\\nChristopher is busy on Monday during 9:30 to 10:30, 11:30 to 12:30, 15:00 to 17:00; \\n\\nMason would rather not meet on Monday before 12:30. Find a time that works for everyone's schedule and constraints. \\nSOLUTION: Here is the proposed time: Monday, 12:30 - 13:00 \\n\\nTASK: You need to schedule a meeting for Michelle, Steven and Jerry for one hour between the work hours of 9:00 to 17:00 on Monday. \\n\\nHere are the existing schedules for everyone during the day: \\nMichelle has meetings on Monday during 11:00 to 12:00; \\nSteven has blocked their calendar on Monday during 9:00 to 9:30, 11:30 to 12:00, 13:30 to 14:00, 15:30 to 16:00; \\nJerry has blocked their calendar on Monday during 9:00 to 9:30, 10:00 to 11:00, 11:30 to 12:30, 13:00 to 14:30, 15:30 to 16:00, 16:30 to 17:00; \\n\\nFind a time that works for everyone's schedule and constraints. \\nSOLUTION: \", 'golden_plan': 'Here is the proposed time: Monday, 14:30 - 15:30 ', 'pred_5shot_pro': 'SOLUTION: Here is the proposed time: Monday, 14:30 - 15:30 \\n', 'prompt_0shot': \"You are an expert at scheduling meetings. You are given a few constraints on the existing schedule of each participant, the meeting duration, and possibly some preferences on the meeting time. Note there exists a solution that works with existing schedule of every participant. Here are a few example tasks and solutions:\\n\\nTASK: You need to schedule a meeting for Michelle, Steven and Jerry for one hour between the work hours of 9:00 to 17:00 on Monday. \\n\\nHere are the existing schedules for everyone during the day: \\nMichelle has meetings on Monday during 11:00 to 12:00; \\nSteven has blocked their calendar on Monday during 9:00 to 9:30, 11:30 to 12:00, 13:30 to 14:00, 15:30 to 16:00; \\nJerry has blocked their calendar on Monday during 9:00 to 9:30, 10:00 to 11:00, 11:30 to 12:30, 13:00 to 14:30, 15:30 to 16:00, 16:30 to 17:00; \\n\\nFind a time that works for everyone's schedule and constraints. \\nSOLUTION: \", 'id': 'calendar_scheduling_example_0'}\n",
      "\n",
      "Features:\n",
      "{'num_people': Value(dtype='string', id=None), 'num_days': Value(dtype='string', id=None), 'duration': Value(dtype='string', id=None), 'prompt_5shot': Value(dtype='string', id=None), 'golden_plan': Value(dtype='string', id=None), 'pred_5shot_pro': Value(dtype='string', id=None), 'prompt_0shot': Value(dtype='string', id=None), 'id': Value(dtype='string', id=None)}\n"
     ]
    }
   ],
   "source": [
    "import json\n",
    "from datasets import Dataset, Features, Value # Optional: for defining types\n",
    "\n",
    "# 1. Define the path to your local JSON file\n",
    "json_file_path = './data/calendar_scheduling.json' # <-- Replace with your actual file path\n",
    "\n",
    "# 2. Load the JSON data using the standard json library\n",
    "print(f\"Loading JSON data from: {json_file_path}\")\n",
    "try:\n",
    "    with open(json_file_path, 'r', encoding='utf-8') as f:\n",
    "        data_dict = json.load(f)\n",
    "    print(\"JSON data loaded successfully.\")\n",
    "except FileNotFoundError:\n",
    "    print(f\"Error: File not found at {json_file_path}\")\n",
    "    exit()\n",
    "except json.JSONDecodeError as e:\n",
    "    print(f\"Error decoding JSON: {e}\")\n",
    "    exit()\n",
    "\n",
    "# 3. Transform the dictionary into a list of records, adding the ID\n",
    "print(\"Transforming data into a list of records...\")\n",
    "data_list = []\n",
    "for example_id, record_data in data_dict.items():\n",
    "    # Create a copy to avoid modifying the original dict if needed elsewhere\n",
    "    new_record = record_data.copy()\n",
    "    # Add the original top-level key as an 'id' field in the record\n",
    "    new_record['id'] = example_id\n",
    "    data_list.append(new_record)\n",
    "\n",
    "print(f\"Transformed {len(data_list)} records.\")\n",
    "\n",
    "# Optional: Define features for type safety (recommended)\n",
    "# Adjust types (Value('string'), Value('int32'), Value('float32')) as needed\n",
    "# If unsure, you can let the library infer them, but explicit is better.\n",
    "expected_features = Features({\n",
    "    'id': Value('string'),\n",
    "    'num_people': Value('string'), # Note: your example has strings, change if they are numbers\n",
    "    'num_days': Value('string'),   # Change if needed\n",
    "    'duration': Value('string'),   # Change if needed (e.g., Value('float32'))\n",
    "    'prompt_5shot': Value('string'),\n",
    "    'golden_plan': Value('string'),\n",
    "    'pred_5shot_pro': Value('string'),\n",
    "    'prompt_0shot': Value('string'),\n",
    "    # Add any other fields present in your records here\n",
    "})\n",
    "\n",
    "\n",
    "# 4. Create the Dataset object using Dataset.from_list\n",
    "print(\"Creating Dataset object...\")\n",
    "# If you defined features, pass them:\n",
    "# custom_dataset = Dataset.from_list(data_list, features=expected_features)\n",
    "\n",
    "# If you want the library to infer features:\n",
    "custom_dataset = Dataset.from_list(data_list)\n",
    "\n",
    "print(\"Dataset created successfully!\")\n",
    "\n",
    "# --- Now you can use your custom_dataset ---\n",
    "print(\"\\nDataset Info:\")\n",
    "print(custom_dataset)\n",
    "\n",
    "print(\"\\nFirst example:\")\n",
    "print(custom_dataset[0])\n",
    "\n",
    "print(\"\\nFeatures:\")\n",
    "print(custom_dataset.features)"
   ]
  },
  {
   "cell_type": "code",
   "execution_count": 7,
   "metadata": {},
   "outputs": [
    {
     "data": {
      "text/plain": [
       "Dataset({\n",
       "    features: ['num_people', 'num_days', 'duration', 'prompt_5shot', 'golden_plan', 'pred_5shot_pro', 'prompt_0shot', 'id'],\n",
       "    num_rows: 1000\n",
       "})"
      ]
     },
     "execution_count": 7,
     "metadata": {},
     "output_type": "execute_result"
    }
   ],
   "source": [
    "custom_dataset"
   ]
  },
  {
   "cell_type": "code",
   "execution_count": 8,
   "metadata": {},
   "outputs": [
    {
     "data": {
      "text/plain": [
       "{'num_people': '3',\n",
       " 'num_days': '1',\n",
       " 'duration': '1',\n",
       " 'prompt_5shot': \"You are an expert at scheduling meetings. You are given a few constraints on the existing schedule of each participant, the meeting duration, and possibly some preferences on the meeting time. Note there exists a solution that works with existing schedule of every participant. Here are a few example tasks and solutions:\\n\\nTASK: You need to schedule a meeting for Roger, Karen and Dorothy for half an hour between the work hours of 9:00 to 17:00 on Monday. \\n\\nHere are the existing schedules for everyone during the day: \\nRoger's calendar is wide open the entire day.\\nKaren has meetings on Monday during 10:00 to 10:30, 11:30 to 12:00, 12:30 to 13:00, 14:00 to 15:00, 15:30 to 16:00; \\nDorothy is busy on Monday during 9:00 to 10:00, 10:30 to 11:00, 11:30 to 12:00, 12:30 to 13:00, 14:00 to 15:30, 16:00 to 17:00; \\n\\nYou would like to schedule the meeting at their earlist availability.\\nFind a time that works for everyone's schedule and constraints. \\nSOLUTION: Here is the proposed time: Monday, 11:00 - 11:30 \\n\\nTASK: You need to schedule a meeting for Douglas, Lawrence and Isabella for half an hour between the work hours of 9:00 to 17:00 on Monday. \\n\\nHere are the existing schedules for everyone during the day: \\nDouglas has meetings on Monday during 12:00 to 12:30, 15:00 to 15:30; \\nLawrence has meetings on Monday during 10:30 to 12:00, 13:00 to 13:30, 14:00 to 14:30, 15:30 to 16:00; \\nIsabella is busy on Monday during 9:00 to 12:30, 13:30 to 17:00; \\n\\nFind a time that works for everyone's schedule and constraints. \\nSOLUTION: Here is the proposed time: Monday, 12:30 - 13:00 \\n\\nTASK: You need to schedule a meeting for Joshua, Denise and Jeremy for one hour between the work hours of 9:00 to 17:00 on Monday. \\n\\nHere are the existing schedules for everyone during the day: \\nJoshua is busy on Monday during 10:00 to 10:30, 12:00 to 12:30, 14:00 to 14:30, 15:00 to 15:30; \\nDenise's calendar is wide open the entire day.\\nJeremy has meetings on Monday during 9:30 to 10:30, 12:00 to 13:00, 13:30 to 14:00, 14:30 to 15:00, 15:30 to 16:00, 16:30 to 17:00; \\n\\nFind a time that works for everyone's schedule and constraints. \\nSOLUTION: Here is the proposed time: Monday, 10:30 - 11:30 \\n\\nTASK: You need to schedule a meeting for Alan, Elizabeth and Denise for half an hour between the work hours of 9:00 to 17:00 on Monday. \\n\\nHere are the existing schedules for everyone during the day: \\nAlan has blocked their calendar on Monday during 13:00 to 13:30, 14:00 to 14:30; \\nElizabeth is busy on Monday during 9:00 to 9:30, 11:00 to 11:30; \\nDenise has blocked their calendar on Monday during 9:00 to 10:00, 10:30 to 11:30, 12:30 to 13:00, 13:30 to 14:00, 14:30 to 16:00, 16:30 to 17:00; \\n\\nYou would like to schedule the meeting at their earlist availability.\\nFind a time that works for everyone's schedule and constraints. \\nSOLUTION: Here is the proposed time: Monday, 10:00 - 10:30 \\n\\nTASK: You need to schedule a meeting for Mason, Bruce and Christopher for half an hour between the work hours of 9:00 to 17:00 on Monday. \\n\\nHere are the existing schedules for everyone during the day: \\nMason has meetings on Monday during 9:30 to 10:00, 11:00 to 11:30, 14:30 to 15:00, 16:30 to 17:00; \\nBruce is free the entire day.\\nChristopher is busy on Monday during 9:30 to 10:30, 11:30 to 12:30, 15:00 to 17:00; \\n\\nMason would rather not meet on Monday before 12:30. Find a time that works for everyone's schedule and constraints. \\nSOLUTION: Here is the proposed time: Monday, 12:30 - 13:00 \\n\\nTASK: You need to schedule a meeting for Michelle, Steven and Jerry for one hour between the work hours of 9:00 to 17:00 on Monday. \\n\\nHere are the existing schedules for everyone during the day: \\nMichelle has meetings on Monday during 11:00 to 12:00; \\nSteven has blocked their calendar on Monday during 9:00 to 9:30, 11:30 to 12:00, 13:30 to 14:00, 15:30 to 16:00; \\nJerry has blocked their calendar on Monday during 9:00 to 9:30, 10:00 to 11:00, 11:30 to 12:30, 13:00 to 14:30, 15:30 to 16:00, 16:30 to 17:00; \\n\\nFind a time that works for everyone's schedule and constraints. \\nSOLUTION: \",\n",
       " 'golden_plan': 'Here is the proposed time: Monday, 14:30 - 15:30 ',\n",
       " 'pred_5shot_pro': 'SOLUTION: Here is the proposed time: Monday, 14:30 - 15:30 \\n',\n",
       " 'prompt_0shot': \"You are an expert at scheduling meetings. You are given a few constraints on the existing schedule of each participant, the meeting duration, and possibly some preferences on the meeting time. Note there exists a solution that works with existing schedule of every participant. Here are a few example tasks and solutions:\\n\\nTASK: You need to schedule a meeting for Michelle, Steven and Jerry for one hour between the work hours of 9:00 to 17:00 on Monday. \\n\\nHere are the existing schedules for everyone during the day: \\nMichelle has meetings on Monday during 11:00 to 12:00; \\nSteven has blocked their calendar on Monday during 9:00 to 9:30, 11:30 to 12:00, 13:30 to 14:00, 15:30 to 16:00; \\nJerry has blocked their calendar on Monday during 9:00 to 9:30, 10:00 to 11:00, 11:30 to 12:30, 13:00 to 14:30, 15:30 to 16:00, 16:30 to 17:00; \\n\\nFind a time that works for everyone's schedule and constraints. \\nSOLUTION: \",\n",
       " 'id': 'calendar_scheduling_example_0'}"
      ]
     },
     "execution_count": 8,
     "metadata": {},
     "output_type": "execute_result"
    }
   ],
   "source": [
    "custom_dataset[0]"
   ]
  },
  {
   "cell_type": "code",
   "execution_count": 9,
   "metadata": {},
   "outputs": [
    {
     "name": "stderr",
     "output_type": "stream",
     "text": [
      "Generating train split: 5 examples [00:00, 1263.27 examples/s]"
     ]
    },
    {
     "name": "stdout",
     "output_type": "stream",
     "text": [
      "Dataset loaded successfully!\n",
      "\n",
      "Dataset Info:\n",
      "Dataset({\n",
      "    features: ['id', 'problem_description', 'gemini_cot_reasoning'],\n",
      "    num_rows: 5\n",
      "})\n",
      "\n",
      "Features:\n",
      "{'id': Value(dtype='string', id=None), 'problem_description': Value(dtype='string', id=None), 'gemini_cot_reasoning': Value(dtype='string', id=None)}\n",
      "\n",
      "First record:\n",
      "{'id': 'meeting_planning_example_0', 'problem_description': \"You are visiting San Francisco for the day and want to meet as many friends as possible. Solve the problem by considering various different schedules and picking the best one to optimize your goals.\\n\\nTravel distances (in minutes):\\nMarina District to Mission District: 20.\\nMission District to Marina District: 19.\\n\\nCONSTRAINTS: You arrive at Marina District at 9:00AM. Stephanie will be at Mission District from 10:30AM to 1:30PM. You'd like to meet Stephanie for a minimum of 120 minutes.\\n\\nYour response should start with 'SOLUTION:'.\", 'gemini_cot_reasoning': \"SOLUTION:\\n\\n**1. Analyze the Constraints and Goal:**\\n\\n*   **Goal:** Maximize the number of friends met in San Francisco.\\n*   **Arrival:** Marina District at 9:00 AM.\\n*   **Stephanie:** Mission District, available 10:30 AM - 1:30 PM. Meeting duration: minimum 120 minutes (2 hours).\\n*   **Travel Times:** Marina to Mission: 20 minutes; Mission to Marina: 19 minutes.\\n\\n**2. Determine the Feasibility of Meeting Stephanie:**\\n\\n*   Latest start time to meet Stephanie for 120 minutes: 1:30 PM - 120 minutes = 11:30 AM.\\n*   Earliest arrival time to meet Stephanie: 10:30 AM.\\n*   Travel time from Marina to Mission: 20 minutes.\\n*   Therefore, the latest time to leave Marina to meet Stephanie is 11:30 AM - 20 minutes = 11:10 AM.\\n*   The earliest time to leave Marina to meet Stephanie is 10:30 AM - 20 minutes = 10:10 AM.\\n*   This means we have a window between 10:10 AM and 11:10 AM to leave Marina to meet Stephanie.\\n\\n**3. Create a Baseline Schedule (Meeting Stephanie):**\\n\\nLet's assume we want to maximize our time with Stephanie. We'll aim to arrive at 10:30 AM.\\n\\n*   **10:10 AM:** Leave Marina District.\\n*   **10:30 AM:** Arrive at Mission District, meet Stephanie.\\n*   **12:30 PM:** Meeting with Stephanie ends (120 minutes).\\n*   **12:30 PM:** Leave Mission District.\\n*   **12:49 PM:** Arrive back at Marina District.\\n\\n**4. Consider Other Friends and Locations:**\\n\\nSince the problem doesn't specify other friends or locations, let's assume we want to maximize the time spent in San Francisco. We can stay in the Marina District until 10:10 AM and leave the Marina District at 12:30 PM.\\n\\n**5. Final Plan:**\\n\\n*   **9:00 AM - 10:10 AM:** Arrive at Marina District and do activities in Marina District.\\n*   **10:10 AM:** Depart from Marina District.\\n*   **10:30 AM - 12:30 PM:** Meet Stephanie in Mission District.\\n*   **12:30 PM:** Depart from Mission District.\\n*   **12:49 PM:** Arrive back at Marina District.\\n*   **12:49 PM - End of Day:** Do activities in Marina District.\\n\\n**6. Optimization Considerations (Without Specific Friend Data):**\\n\\n*   **If other friends are in the Mission District:** Schedule meetings before or after Stephanie.\\n*   **If other friends are in the Marina District:** Schedule meetings before leaving for the Mission or after returning.\\n*   **Travel Time Optimization:** If there are multiple friends, group meetings by location to minimize travel.\\n*   **Flexibility:** Build in buffer time for unexpected delays.\\n\\n**Final Answer:**\\n\\nThe optimal plan, given the limited information, is to arrive at the Marina District at 9:00 AM, spend time there until 10:10 AM, travel to the Mission District to meet Stephanie from 10:30 AM to 12:30 PM, and then return to the Marina District by 12:49 PM to spend the rest of the day. This schedule guarantees the minimum 120-minute meeting with Stephanie and maximizes time spent in San Francisco. If more information about other friends and their locations becomes available, the schedule can be further optimized.\"}\n"
     ]
    },
    {
     "name": "stderr",
     "output_type": "stream",
     "text": [
      "\n"
     ]
    }
   ],
   "source": [
    "\n",
    "# --- Configuration ---\n",
    "# Replace with the actual path to your generated .jsonl file\n",
    "jsonl_file_path = './data/enhanced_synthetic_data/gemini_cot_meeting.jsonl'\n",
    "\n",
    "# --- Load the dataset ---\n",
    "try:\n",
    "    # Use the 'json' type for loading .jsonl files\n",
    "    # Specifying split='train' directly loads the Dataset object\n",
    "    # If omitted, it would load a DatasetDict {'train': Dataset(...)}\n",
    "    cot_dataset = load_dataset('json', data_files=jsonl_file_path, split='train')\n",
    "\n",
    "    # --- Verification (Optional) ---\n",
    "    print(\"Dataset loaded successfully!\")\n",
    "    print(\"\\nDataset Info:\")\n",
    "    print(cot_dataset)\n",
    "\n",
    "    print(\"\\nFeatures:\")\n",
    "    print(cot_dataset.features)\n",
    "\n",
    "    print(\"\\nFirst record:\")\n",
    "    print(cot_dataset[0])\n",
    "\n",
    "except FileNotFoundError:\n",
    "    print(f\"Error: File not found at {jsonl_file_path}\")\n",
    "except Exception as e:\n",
    "    print(f\"An error occurred during loading: {e}\")"
   ]
  },
  {
   "cell_type": "code",
   "execution_count": 10,
   "metadata": {},
   "outputs": [
    {
     "data": {
      "text/plain": [
       "Dataset({\n",
       "    features: ['id', 'problem_description', 'gemini_cot_reasoning'],\n",
       "    num_rows: 5\n",
       "})"
      ]
     },
     "execution_count": 10,
     "metadata": {},
     "output_type": "execute_result"
    }
   ],
   "source": [
    "cot_dataset"
   ]
  },
  {
   "cell_type": "code",
   "execution_count": null,
   "metadata": {},
   "outputs": [],
   "source": []
  }
 ],
 "metadata": {
  "kernelspec": {
   "display_name": ".venv",
   "language": "python",
   "name": "python3"
  },
  "language_info": {
   "codemirror_mode": {
    "name": "ipython",
    "version": 3
   },
   "file_extension": ".py",
   "mimetype": "text/x-python",
   "name": "python",
   "nbconvert_exporter": "python",
   "pygments_lexer": "ipython3",
   "version": "3.13.3"
  }
 },
 "nbformat": 4,
 "nbformat_minor": 2
}
